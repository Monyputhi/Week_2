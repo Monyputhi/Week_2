{
 "cells": [
  {
   "cell_type": "code",
   "execution_count": 2,
   "id": "28793f67",
   "metadata": {},
   "outputs": [
    {
     "name": "stdout",
     "output_type": "stream",
     "text": [
      "Please tell me your old : 12\n",
      "Please tell me your sex : man\n",
      "you cann't go in my KTV and don't go back again.\n"
     ]
    }
   ],
   "source": [
    "year = int(input(\"Please tell me your old : \"))\n",
    "sex = str(input(\"Please tell me your sex : \"))\n",
    "if year>=19 and year<=21:\n",
    "    if sex == \"man\" :\n",
    "        print(\"No you can go in my KTV .\")\n",
    "    else:\n",
    "        print(\"No you can go in my KTV and don't go back again.\")\n",
    "elif year<19:\n",
    "    if sex == \"man\" :\n",
    "        print(\"you cann't go in my KTV and don't go back again.\")\n",
    "    else :  \n",
    "        print(\"No you can go in my KTV and don't go back home.\")\n",
    "else :\n",
    "    print(\"You can go and We have free 1 drink.\")\n",
    " "
   ]
  },
  {
   "cell_type": "code",
   "execution_count": 3,
   "id": "8829b2e3",
   "metadata": {},
   "outputs": [
    {
     "name": "stdout",
     "output_type": "stream",
     "text": [
      "please enter your sign (Rock = 1, Scissore = 2, Paper = 3): 2\n",
      "You win.\n",
      "3\n"
     ]
    }
   ],
   "source": [
    "\n",
    "import random as r\n",
    "sign = int(input(\"please enter your sign (Rock = 1, Scissore = 2, Paper = 3): \"))\n",
    "a = r.randint(1, 3)\n",
    "\n",
    "if sign == 1:\n",
    "    if a==2:\n",
    "        print(\"You win.\")\n",
    "        print(a)\n",
    "    elif a==3:\n",
    "        print(\"You lost.\")\n",
    "        print(a)\n",
    "    else:\n",
    "        print(\"We equal.\")\n",
    "        print(a)\n",
    "elif sign == 2:\n",
    "    if a==3:\n",
    "        print(\"You win.\")\n",
    "        print(a)\n",
    "    elif a==1:\n",
    "        print(\"You lost.\")\n",
    "        print(a)\n",
    "    else:\n",
    "        print(\"We equal.\")\n",
    "        print(a)\n",
    "else:\n",
    "    if a==1:\n",
    "        print(\"You win.\")\n",
    "        print(a)\n",
    "    elif a==2:\n",
    "        print(\"You lost.\")\n",
    "        print(a)\n",
    "    else:\n",
    "        print(\"We equal.\")\n",
    "        print(a)"
   ]
  },
  {
   "cell_type": "code",
   "execution_count": 12,
   "id": "f2d9999e",
   "metadata": {},
   "outputs": [
    {
     "name": "stdout",
     "output_type": "stream",
     "text": [
      "please enter year : 2300\n",
      "No Leap year : 2300\n"
     ]
    }
   ],
   "source": [
    "year = int(input(\"please enter year : \"))\n",
    "n = year%4\n",
    "m = year%100\n",
    "x = year%400\n",
    "\n",
    "if  m == 0 and n == 0 and x == 0:\n",
    "    print(\"Leap year :\" , year)\n",
    "elif m == 0 and n == 0 and x != 0:\n",
    "    print(\"No Leap year :\" , year)\n",
    "elif m != 0 and n == 0 and x != 0:\n",
    "    print(\"Leap year :\" , year)\n",
    "else :\n",
    "    print(\"No Leap year :\", year)\n"
   ]
  },
  {
   "cell_type": "markdown",
   "id": "56ff5c0d",
   "metadata": {},
   "source": [
    "### "
   ]
  },
  {
   "cell_type": "code",
   "execution_count": null,
   "id": "ccfd8a11",
   "metadata": {},
   "outputs": [],
   "source": []
  }
 ],
 "metadata": {
  "kernelspec": {
   "display_name": "Python 3 (ipykernel)",
   "language": "python",
   "name": "python3"
  },
  "language_info": {
   "codemirror_mode": {
    "name": "ipython",
    "version": 3
   },
   "file_extension": ".py",
   "mimetype": "text/x-python",
   "name": "python",
   "nbconvert_exporter": "python",
   "pygments_lexer": "ipython3",
   "version": "3.9.13"
  }
 },
 "nbformat": 4,
 "nbformat_minor": 5
}
